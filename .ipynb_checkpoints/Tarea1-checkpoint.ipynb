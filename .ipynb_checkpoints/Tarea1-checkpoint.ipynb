{
 "cells": [
  {
   "cell_type": "markdown",
   "id": "a868a567",
   "metadata": {},
   "source": [
    "# Desarrollo tarea 1\n",
    "## Materia Visión de máquina, maestría en ingeniería electrónica\n",
    "## Presentada por Juan Daniel Sarmiento Abello \n",
    "## CC 1000331954"
   ]
  },
  {
   "cell_type": "code",
   "execution_count": 76,
   "id": "5a3717c9",
   "metadata": {},
   "outputs": [],
   "source": [
    "%matplotlib inline\n",
    "import cv2\n",
    "from IPython.display import Image\n",
    "import numpy as np\n",
    "from matplotlib import pyplot as plt\n",
    "from scipy.interpolate import make_interp_spline #construir los objetos de interpolación dadas las matrices de datos, xy y, "
   ]
  },
  {
   "cell_type": "markdown",
   "id": "cbea0165",
   "metadata": {},
   "source": [
    "## 1. Principales técnicas de interpolación\n",
    "## Impleteación y evaluación "
   ]
  },
  {
   "cell_type": "markdown",
   "id": "99bd8b87",
   "metadata": {},
   "source": [
    "## Imagen utilizada"
   ]
  },
  {
   "cell_type": "markdown",
   "id": "50e051ba",
   "metadata": {},
   "source": [
    "Reutilizo una imagen del radar de apertura sintetica Sentinel correspondiente al embalse de tominé y se recorto a un tamaño de 378 × 413 píxeles"
   ]
  },
  {
   "cell_type": "code",
   "execution_count": 81,
   "id": "ab42b023",
   "metadata": {},
   "outputs": [
    {
     "name": "stdout",
     "output_type": "stream",
     "text": [
      "tamaño y tipo (451, 378, 3) uint8\n"
     ]
    }
   ],
   "source": [
    "#Lectura de la imagen\n",
    "imgSpk = cv2.imread('Spk.png')\n",
    "tamaño = imgSpk.shape\n",
    "tipo = imgSpk.dtype\n",
    "print('tamaño y tipo',tamaño,tipo)"
   ]
  },
  {
   "cell_type": "markdown",
   "id": "9bfa8c5a",
   "metadata": {},
   "source": [
    "![Spk.png](Spk.png)"
   ]
  },
  {
   "cell_type": "markdown",
   "id": "bd0b65f0",
   "metadata": {},
   "source": [
    "### 1.1 Vecino más cercano "
   ]
  },
  {
   "cell_type": "markdown",
   "id": "ef28b49f",
   "metadata": {},
   "source": [
    "Este método consiste en aproximar el valor de un píxel de salida, dado un píxel de entrada cuya cercanía es la más próxima posible, en dirección inversa. Para lograr esto, se distorsiona la imagen original  mediante ecuaciones de distorsión como: \n",
    "\n",
    "\\begin{equation}\n",
    "        x^{'} = r(x,y) = c_1x + c_2y + c_3xy + c_4\\\\\n",
    "        y^{'} = s(x,y) = c_5x + c_6y + c_7xy + c_8\n",
    "    \\end{equation}\n",
    "    \n",
    "Las ecuaciones de distorsión generan píxeles en nuevas coordenadas donde se evaluarán los más cercanos al píxel original y finalmente se le asignará un valor de gris.\n",
    "Este metodo anuque relativmente sencillo de utilizar puede generar distorsión de líneas en imágenes y producir\n",
    "un error espacial relativo de $\\frac{1}{\\sqrt{2}}$.\n",
    "\n",
    "El siguiente código utiliza la función $cv2.resize$ con un factor de 1.5 para obtener la interpolación del vecino más cercano."
   ]
  },
  {
   "cell_type": "code",
   "execution_count": 82,
   "id": "34d16881",
   "metadata": {},
   "outputs": [],
   "source": [
    "ImgIterpolacion_M1 = cv2.resize(imgSpk, None,fx=1.5, fy=1.5, interpolation = cv2.INTER_NEAREST)"
   ]
  },
  {
   "cell_type": "code",
   "execution_count": 83,
   "id": "11427bca",
   "metadata": {},
   "outputs": [
    {
     "data": {
      "text/plain": [
       "True"
      ]
     },
     "execution_count": 83,
     "metadata": {},
     "output_type": "execute_result"
    }
   ],
   "source": [
    "cv2.imwrite(\"Interpolacion_Ve.png\", ImgIterpolacion_M1)"
   ]
  },
  {
   "cell_type": "markdown",
   "id": "d40ca5f4",
   "metadata": {},
   "source": [
    "![Spk.png](Spk.png),![Interpolacion_Ve.png](Interpolacion_Ve.png)"
   ]
  },
  {
   "cell_type": "markdown",
   "id": "2c8566e9",
   "metadata": {},
   "source": [
    "Figura 1 Imagen superior original, imagen inferior aplicando interpolación con vecinos mas cercanos.\n",
    "El nuveo tamaño de la imgen es:"
   ]
  },
  {
   "cell_type": "markdown",
   "id": "58966d89",
   "metadata": {},
   "source": [
    "Este método de interpolación presenta una imagen con un relativo alto nivel de distorsión debido a que el valor de un píxel de salida puede tener valores numéricos con una alta diferencia respecto de su vecino más cercano"
   ]
  },
  {
   "cell_type": "code",
   "execution_count": 84,
   "id": "acd4830d",
   "metadata": {},
   "outputs": [
    {
     "name": "stdout",
     "output_type": "stream",
     "text": [
      "Tamaño (676, 567, 3)\n"
     ]
    }
   ],
   "source": [
    "img = cv2.imread('Interpolacion_Ve.png')\n",
    "tamaño2 = img.shape\n",
    "print('Tamaño',tamaño2)"
   ]
  },
  {
   "cell_type": "code",
   "execution_count": null,
   "id": "68f978a2",
   "metadata": {},
   "outputs": [],
   "source": [
    "Este metodo de interpolasion "
   ]
  },
  {
   "cell_type": "markdown",
   "id": "2746478d",
   "metadata": {},
   "source": [
    "### 1.2 Interpolación Bilineal"
   ]
  },
  {
   "cell_type": "markdown",
   "id": "9c6ecf84",
   "metadata": {},
   "source": [
    "Este método considera los cuatro vecinos más cercanos de un píxel en la imagen original para asignar un valor al píxel de salida. Esto lo hace calculando el promedio de los cuatro píxeles para llegar al valor interpolado. Con este método se obtienen bordes más suavizados pero a costa de mayores recursos computacionales. "
   ]
  },
  {
   "cell_type": "code",
   "execution_count": 85,
   "id": "4aae4302",
   "metadata": {},
   "outputs": [
    {
     "data": {
      "text/plain": [
       "True"
      ]
     },
     "execution_count": 85,
     "metadata": {},
     "output_type": "execute_result"
    }
   ],
   "source": [
    "ImgIterpolacion_M2 = cv2.resize(imgSpk, None,fx=1.5, fy=1.5, interpolation = cv2.INTER_LINEAR)\n",
    "cv2.imwrite(\"Interpolacion_Bi.png\", ImgIterpolacion_M2)"
   ]
  },
  {
   "cell_type": "markdown",
   "id": "4c9da821",
   "metadata": {},
   "source": [
    "![Spk.png](Spk.png),![Interpolacion_Bi.png](Interpolacion_Bi.png)"
   ]
  },
  {
   "cell_type": "markdown",
   "id": "fd27782a",
   "metadata": {},
   "source": [
    "Figura 2. Imagen superior original, imagen inferior aplicando interpolación Bilineal."
   ]
  },
  {
   "cell_type": "markdown",
   "id": "ed046816",
   "metadata": {},
   "source": [
    "Este método utiliza los cuatro vecinos más cercanos a un píxel de entrada por lo  que  obtiene un promedio de los valores numéricos que lo rodean. Esto le permite tener mejores resultados como se muestra en la figura."
   ]
  },
  {
   "cell_type": "code",
   "execution_count": 86,
   "id": "a5f525e8",
   "metadata": {},
   "outputs": [
    {
     "name": "stdout",
     "output_type": "stream",
     "text": [
      "Tamaño (676, 567, 3)\n"
     ]
    }
   ],
   "source": [
    "img = cv2.imread('Interpolacion_Bi.png')\n",
    "tamaño3 = img.shape\n",
    "print('Tamaño',tamaño3)"
   ]
  },
  {
   "cell_type": "markdown",
   "id": "8bdd0a1a",
   "metadata": {},
   "source": [
    "### 1.3 Interpolación Bicubica."
   ]
  },
  {
   "cell_type": "markdown",
   "id": "5571195b",
   "metadata": {},
   "source": [
    "Este método utiliza los ocho vecinos más cercanos para realizar la interpolación. La interpolación bicúbica calcula el valor en los píxeles de salida en una imagen de baja resolución ajustando un poliomielitis de tercer orden, $f_i(x)$, entre dos píxeles vecinos ( $x_i$ y $x_{i + 1}$).\n",
    "El polinomio de tercer orden se desribe como:\n",
    "\n",
    "\\begin{equation}\n",
    "        f_i(x) = a_i+b_i(x-x_i)+c_i(x-x_i)^{2}+d_i(x-x_i)^{3}\n",
    "    \\end{equation}\n",
    "    \n",
    "Donde x es la ubicación espacial del valor de píxel que se interpola y normalmente está a medio camino entre $x_i$  y  $x_{i+1}$."
   ]
  },
  {
   "cell_type": "code",
   "execution_count": 87,
   "id": "d0068862",
   "metadata": {},
   "outputs": [
    {
     "data": {
      "text/plain": [
       "True"
      ]
     },
     "execution_count": 87,
     "metadata": {},
     "output_type": "execute_result"
    }
   ],
   "source": [
    "ImgIterpolacion_M3 = cv2.resize(imgSpk, None,fx=1.5, fy=1.5, interpolation = cv2.INTER_CUBIC)\n",
    "cv2.imwrite(\"Interpolacion_Bic.png\", ImgIterpolacion_M3)"
   ]
  },
  {
   "cell_type": "markdown",
   "id": "6ff5509d",
   "metadata": {},
   "source": [
    "![Spk.png](Spk.png),![Interpolacion_Bic.png](Interpolacion_Bic.png)"
   ]
  },
  {
   "cell_type": "markdown",
   "id": "260e981b",
   "metadata": {},
   "source": [
    "Figura 3. Imagen superior original, imagen inferior aplicando interpolación bicúbica."
   ]
  },
  {
   "cell_type": "markdown",
   "id": "ec0afff6",
   "metadata": {},
   "source": [
    "Este método permite mejorar aún más la imagen debido a que el píxel de entrada promedia los valores de sus ocho vecinos más cercanos permitiendo obtener mejores resultados que la interpolación por el método bilineal "
   ]
  },
  {
   "cell_type": "code",
   "execution_count": 88,
   "id": "9317b6ea",
   "metadata": {},
   "outputs": [
    {
     "name": "stdout",
     "output_type": "stream",
     "text": [
      "Tamaño (676, 567, 3)\n"
     ]
    }
   ],
   "source": [
    "img = cv2.imread('Interpolacion_Bic.png')\n",
    "tamaño4 = img.shape\n",
    "print('Tamaño',tamaño4)"
   ]
  },
  {
   "cell_type": "markdown",
   "id": "4bbb8399",
   "metadata": {},
   "source": [
    "En el siguiente código se puede detallar la diferencia entre las interpolaciones"
   ]
  },
  {
   "cell_type": "code",
   "execution_count": null,
   "id": "6575429a",
   "metadata": {},
   "outputs": [],
   "source": []
  },
  {
   "cell_type": "markdown",
   "id": "27e76cd4",
   "metadata": {},
   "source": [
    "### 1.4 Interpolación  B-splines"
   ]
  },
  {
   "cell_type": "markdown",
   "id": "81dfd87b",
   "metadata": {},
   "source": [
    "Las B-splines son un conjunto ponderado de funciones básicas para splines polinomiales[1].\n",
    "Permiten devolver un vector para su posterior interpolacion. La función $B-spline$ puede crear una spline lineal, cuadrática o cúbica.\n",
    "La interpolación B-spline le permite trazar una curva por un conjunto de puntos tomando tres puntos adyacentes y creando un polinomio de grado n que pase por tales puntos. Estos polinomios se unen en los nudos para formar la curva completa.\n",
    "Continicion se muestra un ejemplo de uso del metodo B-spline.  "
   ]
  },
  {
   "cell_type": "code",
   "execution_count": 66,
   "id": "59b0287f",
   "metadata": {},
   "outputs": [],
   "source": [
    "from scipy.interpolate import make_interp_spline\n",
    "bspl = make_interp_spline(x, y, k=3)"
   ]
  },
  {
   "cell_type": "markdown",
   "id": "b5e19de9",
   "metadata": {},
   "source": [
    "Ref 'Interpolacion B-spline. Tomado de https://docs.scipy.org/doc/scipy/tutorial/interpolate/1D.html#interpolation-with-b-splines"
   ]
  },
  {
   "cell_type": "code",
   "execution_count": 67,
   "id": "1e802b4c",
   "metadata": {},
   "outputs": [],
   "source": [
    "def B_Splines(x,y):\n",
    "    bspl = make_interp_spline(x, y, k=3)\n",
    "    der = bspl.derivative()      # a BSpline representing the derivative\n",
    "    xx = np.linspace(0, 3/2, 51)\n",
    "    plt.plot(xx, bspl(xx), '--', label=r'$f(x)$ approx')\n",
    "    plt.plot(x, y, 'o', label='data')\n",
    "    plt.plot(xx, der(xx)/np.pi, '--', label='$d f(x)/dx$ approx')\n",
    "    plt.legend()\n",
    "    plt.show()"
   ]
  },
  {
   "cell_type": "markdown",
   "id": "9927a805",
   "metadata": {},
   "source": [
    "Ingrese una función matematica de la forma $f(x)=a_{n-1}x^{n}+a_{n-1}x^{n-1}+...+a_{3}x^{3}+a_{2}x^{2}+a_{1}x+a_{0}$"
   ]
  },
  {
   "cell_type": "code",
   "execution_count": 71,
   "id": "5bbdabc0",
   "metadata": {
    "scrolled": false
   },
   "outputs": [
    {
     "data": {
      "image/png": "[encoded data removed]",
      "text/plain": [
       "<Figure size 432x288 with 1 Axes>"
      ]
     },
     "metadata": {
      "needs_background": "light"
     },
     "output_type": "display_data"
    },
    {
     "data": {
      "image/png": "[encoded data removed]",
      "text/plain": [
       "<Figure size 432x288 with 1 Axes>"
      ]
     },
     "metadata": {
      "needs_background": "light"
     },
     "output_type": "display_data"
    },
    {
     "data": {
      "image/png": "[encoded data removed]",
      "text/plain": [
       "<Figure size 432x288 with 1 Axes>"
      ]
     },
     "metadata": {
      "needs_background": "light"
     },
     "output_type": "display_data"
    },
    {
     "data": {
      "image/png": "[encoded data removed]",
      "text/plain": [
       "<Figure size 432x288 with 1 Axes>"
      ]
     },
     "metadata": {
      "needs_background": "light"
     },
     "output_type": "display_data"
    },
    {
     "data": {
      "image/png": "[encoded data removed]",
      "text/plain": [
       "<Figure size 432x288 with 1 Axes>"
      ]
     },
     "metadata": {
      "needs_background": "light"
     },
     "output_type": "display_data"
    }
   ],
   "source": [
    "x = np.linspace(0, 3/2, 7)\n",
    "y = np.sin(np.pi*x)\n",
    "B_Splines(x,y)\n",
    "\n",
    "\n",
    "x = np.linspace(0, 3/2, 7)\n",
    "y = (x*x)+1\n",
    "B_Splines(x,y)\n",
    "\n",
    "\n",
    "x = np.linspace(0, 3/2, 7)\n",
    "y = np.tan(np.pi*x)\n",
    "B_Splines(x,y)\n",
    "\n",
    "\n",
    "x = np.linspace(0, 3/2, 7)\n",
    "y = ((2*x)+3)//(x+1)\n",
    "B_Splines(x,y)\n",
    "\n",
    "x = np.linspace(0, 3/2, 7)\n",
    "y = 2*x-2\n",
    "B_Splines(x,y)"
   ]
  },
  {
   "cell_type": "markdown",
   "id": "419e407b",
   "metadata": {},
   "source": [
    "Se puede ver cómo a partir de una serie de puntos la interpolación $B-Spline$ aproxima aproxima la función con una alta precisión, este método es muy utilizado  para para la detección de relieves sin embargo, cuando la imagen cuenta con un alto contenido en relieve este método puede perder precisión"
   ]
  },
  {
   "cell_type": "markdown",
   "id": "8142de16",
   "metadata": {},
   "source": [
    "## 3. Desarrollar una función para rotar de imágenes, cuyo parámetro de entrada sea el ángulo de rotación y cuya salida sea la imagen rotada y debidamente interpolada"
   ]
  },
  {
   "cell_type": "markdown",
   "id": "d0faf0df",
   "metadata": {},
   "source": [
    "La siguiente función rota una imagen ña cantidad de grados descritos por el usuario. Los parámetros de entrada son la cantidad de grados y  la imagen."
   ]
  },
  {
   "cell_type": "code",
   "execution_count": 90,
   "id": "12fa3685",
   "metadata": {},
   "outputs": [],
   "source": [
    "def RotacionImagen(Angulo,imagen):\n",
    "\n",
    "    Alto, Ancho = imagen.shape[:2]\n",
    "    Centro = (Ancho/2, Alto/2)  \n",
    "    rotate_matrix = cv2.getRotationMatrix2D(center=Centro, angle=Angulo, scale=1)  \n",
    "    rotated_image = cv2.warpAffine(src=imagen, M=rotate_matrix, dsize=(Ancho, Alto)) \n",
    "    rotated_imageIp = cv2.resize(rotated_image, None,fx=1, fy=1, interpolation = cv2.INTER_CUBIC)\n",
    "    cv2.imshow(\"Imagen Rotada con interpolacion\", rotated_imageIp)\n",
    "    cv2.imshow('Imagen Original', imagen)\n",
    "    cv2.waitKey(0)\n",
    "    cv2.destroyAllWindows()  \n"
   ]
  },
  {
   "cell_type": "code",
   "execution_count": 93,
   "id": "2ac9a497",
   "metadata": {},
   "outputs": [],
   "source": [
    "imagen = cv2.imread('Spk.png')\n",
    "Angulo = 18\n",
    "RotacionImagen(Angulo, imagen)"
   ]
  },
  {
   "cell_type": "code",
   "execution_count": null,
   "id": "5a3756f2",
   "metadata": {},
   "outputs": [],
   "source": []
  }
 ],
 "metadata": {
  "kernelspec": {
   "display_name": "Python 3 (ipykernel)",
   "language": "python",
   "name": "python3"
  },
  "language_info": {
   "codemirror_mode": {
    "name": "ipython",
    "version": 3
   },
   "file_extension": ".py",
   "mimetype": "text/x-python",
   "name": "python",
   "nbconvert_exporter": "python",
   "pygments_lexer": "ipython3",
   "version": "3.10.12"
  }
 },
 "nbformat": 4,
 "nbformat_minor": 5
}
